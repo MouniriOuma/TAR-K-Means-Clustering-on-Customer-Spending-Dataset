{
  "cells": [
    {
      "cell_type": "markdown",
      "metadata": {
        "id": "view-in-github",
        "colab_type": "text"
      },
      "source": [
        "<a href=\"https://colab.research.google.com/github/MouniriOuma/TAR-K-Means-Clustering-on-Customer-Spending-Dataset/blob/main/TAR3.ipynb\" target=\"_parent\"><img src=\"https://colab.research.google.com/assets/colab-badge.svg\" alt=\"Open In Colab\"/></a>"
      ]
    },
    {
      "cell_type": "code",
      "execution_count": null,
      "id": "96848eb7-b657-4b35-91fa-2562729316ae",
      "metadata": {
        "id": "96848eb7-b657-4b35-91fa-2562729316ae"
      },
      "outputs": [],
      "source": [
        "import pandas as pd\n",
        "import numpy as np\n",
        "from sklearn.preprocessing import StandardScaler\n",
        "from sklearn.cluster import KMeans\n",
        "from sklearn.metrics import silhouette_score\n",
        "import plotly.express as px\n",
        "import matplotlib.pyplot as plt\n",
        "import seaborn as sns"
      ]
    },
    {
      "cell_type": "code",
      "execution_count": null,
      "id": "7181639d-4a5c-4f33-8803-80072d667553",
      "metadata": {
        "id": "7181639d-4a5c-4f33-8803-80072d667553"
      },
      "outputs": [],
      "source": [
        "def charger_dataset(file):\n",
        "    return pd.read_csv(file)\n",
        "\n",
        "# Charger le fichier de données\n",
        "df = charger_dataset('spending_score_predict.csv')"
      ]
    },
    {
      "cell_type": "code",
      "execution_count": null,
      "id": "84ee9c58-1595-4017-98e7-c7c485822db1",
      "metadata": {
        "id": "84ee9c58-1595-4017-98e7-c7c485822db1"
      },
      "outputs": [],
      "source": [
        "def pretraitement_data(df):\n",
        "    # Sélectionner les colonnes pertinentes\n",
        "    selected_columns = ['Age', 'Gender', 'Annual Income (k$)', 'Spending Score (1-100)']\n",
        "    data = df[selected_columns]\n",
        "\n",
        "    # Convertir la colonne Gender en valeurs numériques (par exemple, 0 pour M et 1 pour F)\n",
        "    data.loc[:, 'Gender'] = data['Gender'].map({'Male': 0, 'Female': 1})\n",
        "    # Normaliser les données\n",
        "    scaler = StandardScaler()\n",
        "    data_normalized = scaler.fit_transform(data)\n",
        "\n",
        "    return data_normalized\n",
        "\n",
        "# Prétraitement des données\n",
        "data_normalized = pretraitement_data(df)"
      ]
    },
    {
      "cell_type": "code",
      "execution_count": null,
      "id": "7fb3889c-b530-4d7d-a14f-c9958b4231ee",
      "metadata": {
        "id": "7fb3889c-b530-4d7d-a14f-c9958b4231ee",
        "outputId": "88802984-43fb-48d6-e2a2-ee8773e60436"
      },
      "outputs": [
        {
          "name": "stderr",
          "output_type": "stream",
          "text": [
            "C:\\Users\\Mouma\\anaconda3\\Lib\\site-packages\\sklearn\\cluster\\_kmeans.py:1446: UserWarning: KMeans is known to have a memory leak on Windows with MKL, when there are less chunks than available threads. You can avoid it by setting the environment variable OMP_NUM_THREADS=1.\n",
            "  warnings.warn(\n"
          ]
        }
      ],
      "source": [
        "def application_kmeans(data, n_clusters=4):\n",
        "    kmeans = KMeans(n_clusters=n_clusters, max_iter=1000, random_state=42)\n",
        "    kmeans.fit(data)\n",
        "\n",
        "    return kmeans, kmeans.labels_\n",
        "\n",
        "# Apply K-Means\n",
        "kmeans, labels = application_kmeans(data_normalized, n_clusters=4)\n",
        "\n",
        "# Add the cluster labels to the original DataFrame\n",
        "df['Cluster'] = labels"
      ]
    },
    {
      "cell_type": "code",
      "execution_count": null,
      "id": "92b1148a-3025-4986-8158-7df058aa1efd",
      "metadata": {
        "id": "92b1148a-3025-4986-8158-7df058aa1efd",
        "outputId": "46731348-7f24-4bee-a753-936ef28d811f"
      },
      "outputs": [
        {
          "data": {
            "application/vnd.plotly.v1+json": {
              "config": {
                "plotlyServerURL": "https://plot.ly"
              },
              "data": [
                {
                  "dimensions": [
                    {
                      "axis": {
                        "matches": true
                      },
                      "label": "Age",
                      "values": [
                        19,
                        21,
                        22,
                        20,
                        35,
                        25,
                        31,
                        29,
                        35,
                        18,
                        24,
                        33,
                        19,
                        18,
                        19,
                        26,
                        40,
                        38,
                        18,
                        24,
                        20,
                        26,
                        19,
                        27,
                        39,
                        40,
                        38,
                        39,
                        32,
                        32,
                        28,
                        34,
                        39,
                        32,
                        28,
                        36,
                        27,
                        35,
                        30,
                        28,
                        32,
                        30
                      ]
                    },
                    {
                      "axis": {
                        "matches": true
                      },
                      "label": "Gender",
                      "values": [
                        "Male",
                        "Male",
                        "Male",
                        "Male",
                        "Male",
                        "Male",
                        "Male",
                        "Male",
                        "Male",
                        "Male",
                        "Male",
                        "Male",
                        "Male",
                        "Male",
                        "Male",
                        "Male",
                        "Male",
                        "Male",
                        "Male",
                        "Male",
                        "Male",
                        "Male",
                        "Male",
                        "Male",
                        "Male",
                        "Male",
                        "Male",
                        "Male",
                        "Male",
                        "Male",
                        "Male",
                        "Male",
                        "Male",
                        "Male",
                        "Male",
                        "Male",
                        "Male",
                        "Male",
                        "Male",
                        "Male",
                        "Male",
                        "Male"
                      ]
                    },
                    {
                      "axis": {
                        "matches": true
                      },
                      "label": "Annual Income (k$)",
                      "values": [
                        15,
                        15,
                        20,
                        21,
                        24,
                        24,
                        25,
                        28,
                        28,
                        33,
                        38,
                        42,
                        46,
                        48,
                        48,
                        54,
                        54,
                        54,
                        59,
                        60,
                        61,
                        62,
                        64,
                        67,
                        69,
                        71,
                        71,
                        71,
                        73,
                        75,
                        77,
                        78,
                        78,
                        87,
                        87,
                        87,
                        88,
                        93,
                        99,
                        101,
                        126,
                        137
                      ]
                    },
                    {
                      "axis": {
                        "matches": true
                      },
                      "label": "Spending Score (1-100)",
                      "values": [
                        39,
                        81,
                        79,
                        66,
                        35,
                        73,
                        73,
                        82,
                        61,
                        92,
                        92,
                        60,
                        55,
                        59,
                        59,
                        54,
                        48,
                        55,
                        41,
                        52,
                        49,
                        55,
                        46,
                        56,
                        91,
                        95,
                        75,
                        75,
                        73,
                        93,
                        97,
                        90,
                        88,
                        63,
                        75,
                        92,
                        69,
                        90,
                        97,
                        68,
                        74,
                        83
                      ]
                    }
                  ],
                  "hovertemplate": "Cluster=%{marker.color}<br>%{xaxis.title.text}=%{x}<br>%{yaxis.title.text}=%{y}<extra></extra>",
                  "legendgroup": "2",
                  "marker": {
                    "color": [
                      2,
                      2,
                      2,
                      2,
                      2,
                      2,
                      2,
                      2,
                      2,
                      2,
                      2,
                      2,
                      2,
                      2,
                      2,
                      2,
                      2,
                      2,
                      2,
                      2,
                      2,
                      2,
                      2,
                      2,
                      2,
                      2,
                      2,
                      2,
                      2,
                      2,
                      2,
                      2,
                      2,
                      2,
                      2,
                      2,
                      2,
                      2,
                      2,
                      2,
                      2,
                      2
                    ],
                    "coloraxis": "coloraxis",
                    "symbol": "circle"
                  },
                  "name": "2",
                  "showlegend": true,
                  "type": "splom"
                },
                {
                  "dimensions": [
                    {
                      "axis": {
                        "matches": true
                      },
                      "label": "Age",
                      "values": [
                        20,
                        23,
                        31,
                        22,
                        23,
                        30,
                        35,
                        24,
                        35,
                        35,
                        23,
                        21,
                        21,
                        30,
                        20,
                        31,
                        24,
                        27,
                        29,
                        31,
                        31,
                        27,
                        43,
                        32,
                        45,
                        23,
                        21,
                        22,
                        34,
                        40,
                        32,
                        27,
                        23,
                        21,
                        19,
                        38,
                        18,
                        19,
                        38,
                        40,
                        23,
                        31,
                        25,
                        31,
                        29,
                        35,
                        28,
                        32,
                        32,
                        38,
                        27,
                        30,
                        30,
                        29,
                        31,
                        36,
                        33,
                        30,
                        32,
                        29,
                        36,
                        32,
                        38,
                        35
                      ]
                    },
                    {
                      "axis": {
                        "matches": true
                      },
                      "label": "Gender",
                      "values": [
                        "Female",
                        "Female",
                        "Female",
                        "Female",
                        "Female",
                        "Female",
                        "Female",
                        "Female",
                        "Female",
                        "Female",
                        "Female",
                        "Female",
                        "Female",
                        "Female",
                        "Female",
                        "Female",
                        "Female",
                        "Female",
                        "Female",
                        "Female",
                        "Female",
                        "Female",
                        "Female",
                        "Female",
                        "Female",
                        "Female",
                        "Female",
                        "Female",
                        "Female",
                        "Female",
                        "Female",
                        "Female",
                        "Female",
                        "Female",
                        "Female",
                        "Female",
                        "Female",
                        "Female",
                        "Female",
                        "Female",
                        "Female",
                        "Female",
                        "Female",
                        "Female",
                        "Female",
                        "Female",
                        "Female",
                        "Female",
                        "Female",
                        "Female",
                        "Female",
                        "Female",
                        "Female",
                        "Female",
                        "Female",
                        "Female",
                        "Female",
                        "Female",
                        "Female",
                        "Female",
                        "Female",
                        "Female",
                        "Female",
                        "Female"
                      ]
                    },
                    {
                      "axis": {
                        "matches": true
                      },
                      "label": "Annual Income (k$)",
                      "values": [
                        16,
                        16,
                        17,
                        17,
                        18,
                        19,
                        19,
                        20,
                        21,
                        23,
                        29,
                        30,
                        33,
                        34,
                        37,
                        39,
                        39,
                        40,
                        40,
                        40,
                        43,
                        46,
                        48,
                        48,
                        54,
                        54,
                        54,
                        57,
                        58,
                        60,
                        60,
                        60,
                        62,
                        62,
                        63,
                        64,
                        65,
                        65,
                        67,
                        69,
                        70,
                        70,
                        72,
                        72,
                        73,
                        74,
                        76,
                        76,
                        77,
                        78,
                        78,
                        78,
                        78,
                        79,
                        81,
                        85,
                        86,
                        88,
                        97,
                        98,
                        103,
                        103,
                        113,
                        120
                      ]
                    },
                    {
                      "axis": {
                        "matches": true
                      },
                      "label": "Spending Score (1-100)",
                      "values": [
                        6,
                        77,
                        40,
                        76,
                        94,
                        72,
                        99,
                        77,
                        35,
                        98,
                        87,
                        73,
                        81,
                        73,
                        75,
                        61,
                        65,
                        47,
                        42,
                        42,
                        54,
                        51,
                        50,
                        47,
                        53,
                        52,
                        57,
                        55,
                        60,
                        40,
                        42,
                        50,
                        41,
                        42,
                        54,
                        42,
                        48,
                        50,
                        40,
                        58,
                        29,
                        77,
                        34,
                        71,
                        88,
                        72,
                        40,
                        87,
                        74,
                        76,
                        89,
                        78,
                        73,
                        83,
                        93,
                        75,
                        95,
                        86,
                        86,
                        88,
                        85,
                        69,
                        91,
                        79
                      ]
                    }
                  ],
                  "hovertemplate": "Cluster=%{marker.color}<br>%{xaxis.title.text}=%{x}<br>%{yaxis.title.text}=%{y}<extra></extra>",
                  "legendgroup": "3",
                  "marker": {
                    "color": [
                      3,
                      3,
                      3,
                      3,
                      3,
                      3,
                      3,
                      3,
                      3,
                      3,
                      3,
                      3,
                      3,
                      3,
                      3,
                      3,
                      3,
                      3,
                      3,
                      3,
                      3,
                      3,
                      3,
                      3,
                      3,
                      3,
                      3,
                      3,
                      3,
                      3,
                      3,
                      3,
                      3,
                      3,
                      3,
                      3,
                      3,
                      3,
                      3,
                      3,
                      3,
                      3,
                      3,
                      3,
                      3,
                      3,
                      3,
                      3,
                      3,
                      3,
                      3,
                      3,
                      3,
                      3,
                      3,
                      3,
                      3,
                      3,
                      3,
                      3,
                      3,
                      3,
                      3,
                      3
                    ],
                    "coloraxis": "coloraxis",
                    "symbol": "diamond"
                  },
                  "name": "3",
                  "showlegend": true,
                  "type": "splom"
                },
                {
                  "dimensions": [
                    {
                      "axis": {
                        "matches": true
                      },
                      "label": "Age",
                      "values": [
                        35,
                        64,
                        67,
                        58,
                        37,
                        52,
                        46,
                        54,
                        45,
                        40,
                        60,
                        53,
                        49,
                        42,
                        36,
                        65,
                        48,
                        49,
                        50,
                        49,
                        59,
                        50,
                        47,
                        51,
                        69,
                        53,
                        70,
                        67,
                        54,
                        63,
                        68,
                        70,
                        47,
                        60,
                        60,
                        59,
                        49,
                        57,
                        67,
                        46,
                        48,
                        55,
                        50,
                        68,
                        48,
                        47,
                        48,
                        49,
                        67,
                        49,
                        66,
                        54,
                        68,
                        66,
                        65,
                        63,
                        49,
                        51,
                        50,
                        56
                      ]
                    },
                    {
                      "axis": {
                        "matches": true
                      },
                      "label": "Gender",
                      "values": [
                        "Female",
                        "Male",
                        "Male",
                        "Female",
                        "Male",
                        "Male",
                        "Female",
                        "Female",
                        "Female",
                        "Female",
                        "Male",
                        "Male",
                        "Female",
                        "Female",
                        "Female",
                        "Female",
                        "Male",
                        "Female",
                        "Female",
                        "Female",
                        "Male",
                        "Female",
                        "Male",
                        "Female",
                        "Male",
                        "Male",
                        "Male",
                        "Female",
                        "Female",
                        "Male",
                        "Female",
                        "Male",
                        "Female",
                        "Female",
                        "Female",
                        "Male",
                        "Female",
                        "Male",
                        "Male",
                        "Female",
                        "Male",
                        "Female",
                        "Female",
                        "Female",
                        "Male",
                        "Female",
                        "Male",
                        "Female",
                        "Male",
                        "Male",
                        "Female",
                        "Male",
                        "Male",
                        "Male",
                        "Male",
                        "Female",
                        "Female",
                        "Female",
                        "Female",
                        "Female"
                      ]
                    },
                    {
                      "axis": {
                        "matches": true
                      },
                      "label": "Annual Income (k$)",
                      "values": [
                        18,
                        19,
                        19,
                        20,
                        20,
                        23,
                        25,
                        28,
                        28,
                        29,
                        30,
                        33,
                        33,
                        34,
                        37,
                        38,
                        39,
                        39,
                        40,
                        42,
                        43,
                        43,
                        43,
                        44,
                        44,
                        46,
                        46,
                        47,
                        47,
                        48,
                        48,
                        49,
                        49,
                        50,
                        50,
                        54,
                        54,
                        54,
                        54,
                        54,
                        54,
                        57,
                        58,
                        59,
                        60,
                        60,
                        61,
                        62,
                        62,
                        62,
                        63,
                        63,
                        63,
                        63,
                        63,
                        65,
                        65,
                        67,
                        67,
                        79
                      ]
                    },
                    {
                      "axis": {
                        "matches": true
                      },
                      "label": "Spending Score (1-100)",
                      "values": [
                        6,
                        3,
                        14,
                        15,
                        13,
                        29,
                        5,
                        14,
                        32,
                        31,
                        4,
                        4,
                        14,
                        17,
                        26,
                        35,
                        36,
                        28,
                        55,
                        52,
                        60,
                        45,
                        41,
                        50,
                        46,
                        46,
                        56,
                        52,
                        59,
                        51,
                        48,
                        55,
                        42,
                        49,
                        56,
                        47,
                        42,
                        51,
                        41,
                        44,
                        46,
                        58,
                        46,
                        55,
                        49,
                        47,
                        42,
                        48,
                        59,
                        56,
                        50,
                        46,
                        43,
                        48,
                        52,
                        43,
                        59,
                        43,
                        57,
                        35
                      ]
                    }
                  ],
                  "hovertemplate": "Cluster=%{marker.color}<br>%{xaxis.title.text}=%{x}<br>%{yaxis.title.text}=%{y}<extra></extra>",
                  "legendgroup": "0",
                  "marker": {
                    "color": [
                      0,
                      0,
                      0,
                      0,
                      0,
                      0,
                      0,
                      0,
                      0,
                      0,
                      0,
                      0,
                      0,
                      0,
                      0,
                      0,
                      0,
                      0,
                      0,
                      0,
                      0,
                      0,
                      0,
                      0,
                      0,
                      0,
                      0,
                      0,
                      0,
                      0,
                      0,
                      0,
                      0,
                      0,
                      0,
                      0,
                      0,
                      0,
                      0,
                      0,
                      0,
                      0,
                      0,
                      0,
                      0,
                      0,
                      0,
                      0,
                      0,
                      0,
                      0,
                      0,
                      0,
                      0,
                      0,
                      0,
                      0,
                      0,
                      0,
                      0
                    ],
                    "coloraxis": "coloraxis",
                    "symbol": "square"
                  },
                  "name": "0",
                  "showlegend": true,
                  "type": "splom"
                },
                {
                  "dimensions": [
                    {
                      "axis": {
                        "matches": true
                      },
                      "label": "Age",
                      "values": [
                        43,
                        59,
                        47,
                        20,
                        44,
                        19,
                        57,
                        25,
                        48,
                        34,
                        43,
                        44,
                        47,
                        37,
                        34,
                        19,
                        50,
                        42,
                        36,
                        40,
                        36,
                        52,
                        58,
                        59,
                        37,
                        46,
                        41,
                        54,
                        41,
                        34,
                        33,
                        47,
                        45,
                        32
                      ]
                    },
                    {
                      "axis": {
                        "matches": true
                      },
                      "label": "Gender",
                      "values": [
                        "Male",
                        "Male",
                        "Male",
                        "Male",
                        "Female",
                        "Male",
                        "Female",
                        "Male",
                        "Male",
                        "Female",
                        "Male",
                        "Female",
                        "Female",
                        "Male",
                        "Male",
                        "Male",
                        "Male",
                        "Male",
                        "Female",
                        "Male",
                        "Male",
                        "Female",
                        "Male",
                        "Male",
                        "Female",
                        "Male",
                        "Female",
                        "Female",
                        "Female",
                        "Female",
                        "Male",
                        "Female",
                        "Female",
                        "Male"
                      ]
                    },
                    {
                      "axis": {
                        "matches": true
                      },
                      "label": "Annual Income (k$)",
                      "values": [
                        71,
                        71,
                        71,
                        73,
                        73,
                        74,
                        75,
                        77,
                        77,
                        78,
                        78,
                        78,
                        78,
                        78,
                        78,
                        81,
                        85,
                        86,
                        87,
                        87,
                        87,
                        88,
                        88,
                        93,
                        97,
                        98,
                        99,
                        101,
                        103,
                        103,
                        113,
                        120,
                        126,
                        137
                      ]
                    },
                    {
                      "axis": {
                        "matches": true
                      },
                      "label": "Spending Score (1-100)",
                      "values": [
                        35,
                        11,
                        9,
                        5,
                        7,
                        10,
                        5,
                        12,
                        36,
                        22,
                        17,
                        20,
                        16,
                        1,
                        1,
                        5,
                        26,
                        20,
                        27,
                        13,
                        10,
                        13,
                        15,
                        14,
                        32,
                        15,
                        39,
                        24,
                        17,
                        23,
                        8,
                        16,
                        28,
                        18
                      ]
                    }
                  ],
                  "hovertemplate": "Cluster=%{marker.color}<br>%{xaxis.title.text}=%{x}<br>%{yaxis.title.text}=%{y}<extra></extra>",
                  "legendgroup": "1",
                  "marker": {
                    "color": [
                      1,
                      1,
                      1,
                      1,
                      1,
                      1,
                      1,
                      1,
                      1,
                      1,
                      1,
                      1,
                      1,
                      1,
                      1,
                      1,
                      1,
                      1,
                      1,
                      1,
                      1,
                      1,
                      1,
                      1,
                      1,
                      1,
                      1,
                      1,
                      1,
                      1,
                      1,
                      1,
                      1,
                      1
                    ],
                    "coloraxis": "coloraxis",
                    "symbol": "x"
                  },
                  "name": "1",
                  "showlegend": true,
                  "type": "splom"
                }
              ],
              "layout": {
                "autosize": true,
                "coloraxis": {
                  "colorbar": {
                    "title": {
                      "text": "Cluster"
                    }
                  },
                  "colorscale": [
                    [
                      0,
                      "#0d0887"
                    ],
                    [
                      0.1111111111111111,
                      "#46039f"
                    ],
                    [
                      0.2222222222222222,
                      "#7201a8"
                    ],
                    [
                      0.3333333333333333,
                      "#9c179e"
                    ],
                    [
                      0.4444444444444444,
                      "#bd3786"
                    ],
                    [
                      0.5555555555555556,
                      "#d8576b"
                    ],
                    [
                      0.6666666666666666,
                      "#ed7953"
                    ],
                    [
                      0.7777777777777778,
                      "#fb9f3a"
                    ],
                    [
                      0.8888888888888888,
                      "#fdca26"
                    ],
                    [
                      1,
                      "#f0f921"
                    ]
                  ]
                },
                "dragmode": "select",
                "legend": {
                  "title": {
                    "text": "Cluster"
                  },
                  "tracegroupgap": 0
                },
                "margin": {
                  "t": 60
                },
                "template": {
                  "data": {
                    "bar": [
                      {
                        "error_x": {
                          "color": "#2a3f5f"
                        },
                        "error_y": {
                          "color": "#2a3f5f"
                        },
                        "marker": {
                          "line": {
                            "color": "#E5ECF6",
                            "width": 0.5
                          },
                          "pattern": {
                            "fillmode": "overlay",
                            "size": 10,
                            "solidity": 0.2
                          }
                        },
                        "type": "bar"
                      }
                    ],
                    "barpolar": [
                      {
                        "marker": {
                          "line": {
                            "color": "#E5ECF6",
                            "width": 0.5
                          },
                          "pattern": {
                            "fillmode": "overlay",
                            "size": 10,
                            "solidity": 0.2
                          }
                        },
                        "type": "barpolar"
                      }
                    ],
                    "carpet": [
                      {
                        "aaxis": {
                          "endlinecolor": "#2a3f5f",
                          "gridcolor": "white",
                          "linecolor": "white",
                          "minorgridcolor": "white",
                          "startlinecolor": "#2a3f5f"
                        },
                        "baxis": {
                          "endlinecolor": "#2a3f5f",
                          "gridcolor": "white",
                          "linecolor": "white",
                          "minorgridcolor": "white",
                          "startlinecolor": "#2a3f5f"
                        },
                        "type": "carpet"
                      }
                    ],
                    "choropleth": [
                      {
                        "colorbar": {
                          "outlinewidth": 0,
                          "ticks": ""
                        },
                        "type": "choropleth"
                      }
                    ],
                    "contour": [
                      {
                        "colorbar": {
                          "outlinewidth": 0,
                          "ticks": ""
                        },
                        "colorscale": [
                          [
                            0,
                            "#0d0887"
                          ],
                          [
                            0.1111111111111111,
                            "#46039f"
                          ],
                          [
                            0.2222222222222222,
                            "#7201a8"
                          ],
                          [
                            0.3333333333333333,
                            "#9c179e"
                          ],
                          [
                            0.4444444444444444,
                            "#bd3786"
                          ],
                          [
                            0.5555555555555556,
                            "#d8576b"
                          ],
                          [
                            0.6666666666666666,
                            "#ed7953"
                          ],
                          [
                            0.7777777777777778,
                            "#fb9f3a"
                          ],
                          [
                            0.8888888888888888,
                            "#fdca26"
                          ],
                          [
                            1,
                            "#f0f921"
                          ]
                        ],
                        "type": "contour"
                      }
                    ],
                    "contourcarpet": [
                      {
                        "colorbar": {
                          "outlinewidth": 0,
                          "ticks": ""
                        },
                        "type": "contourcarpet"
                      }
                    ],
                    "heatmap": [
                      {
                        "colorbar": {
                          "outlinewidth": 0,
                          "ticks": ""
                        },
                        "colorscale": [
                          [
                            0,
                            "#0d0887"
                          ],
                          [
                            0.1111111111111111,
                            "#46039f"
                          ],
                          [
                            0.2222222222222222,
                            "#7201a8"
                          ],
                          [
                            0.3333333333333333,
                            "#9c179e"
                          ],
                          [
                            0.4444444444444444,
                            "#bd3786"
                          ],
                          [
                            0.5555555555555556,
                            "#d8576b"
                          ],
                          [
                            0.6666666666666666,
                            "#ed7953"
                          ],
                          [
                            0.7777777777777778,
                            "#fb9f3a"
                          ],
                          [
                            0.8888888888888888,
                            "#fdca26"
                          ],
                          [
                            1,
                            "#f0f921"
                          ]
                        ],
                        "type": "heatmap"
                      }
                    ],
                    "heatmapgl": [
                      {
                        "colorbar": {
                          "outlinewidth": 0,
                          "ticks": ""
                        },
                        "colorscale": [
                          [
                            0,
                            "#0d0887"
                          ],
                          [
                            0.1111111111111111,
                            "#46039f"
                          ],
                          [
                            0.2222222222222222,
                            "#7201a8"
                          ],
                          [
                            0.3333333333333333,
                            "#9c179e"
                          ],
                          [
                            0.4444444444444444,
                            "#bd3786"
                          ],
                          [
                            0.5555555555555556,
                            "#d8576b"
                          ],
                          [
                            0.6666666666666666,
                            "#ed7953"
                          ],
                          [
                            0.7777777777777778,
                            "#fb9f3a"
                          ],
                          [
                            0.8888888888888888,
                            "#fdca26"
                          ],
                          [
                            1,
                            "#f0f921"
                          ]
                        ],
                        "type": "heatmapgl"
                      }
                    ],
                    "histogram": [
                      {
                        "marker": {
                          "pattern": {
                            "fillmode": "overlay",
                            "size": 10,
                            "solidity": 0.2
                          }
                        },
                        "type": "histogram"
                      }
                    ],
                    "histogram2d": [
                      {
                        "colorbar": {
                          "outlinewidth": 0,
                          "ticks": ""
                        },
                        "colorscale": [
                          [
                            0,
                            "#0d0887"
                          ],
                          [
                            0.1111111111111111,
                            "#46039f"
                          ],
                          [
                            0.2222222222222222,
                            "#7201a8"
                          ],
                          [
                            0.3333333333333333,
                            "#9c179e"
                          ],
                          [
                            0.4444444444444444,
                            "#bd3786"
                          ],
                          [
                            0.5555555555555556,
                            "#d8576b"
                          ],
                          [
                            0.6666666666666666,
                            "#ed7953"
                          ],
                          [
                            0.7777777777777778,
                            "#fb9f3a"
                          ],
                          [
                            0.8888888888888888,
                            "#fdca26"
                          ],
                          [
                            1,
                            "#f0f921"
                          ]
                        ],
                        "type": "histogram2d"
                      }
                    ],
                    "histogram2dcontour": [
                      {
                        "colorbar": {
                          "outlinewidth": 0,
                          "ticks": ""
                        },
                        "colorscale": [
                          [
                            0,
                            "#0d0887"
                          ],
                          [
                            0.1111111111111111,
                            "#46039f"
                          ],
                          [
                            0.2222222222222222,
                            "#7201a8"
                          ],
                          [
                            0.3333333333333333,
                            "#9c179e"
                          ],
                          [
                            0.4444444444444444,
                            "#bd3786"
                          ],
                          [
                            0.5555555555555556,
                            "#d8576b"
                          ],
                          [
                            0.6666666666666666,
                            "#ed7953"
                          ],
                          [
                            0.7777777777777778,
                            "#fb9f3a"
                          ],
                          [
                            0.8888888888888888,
                            "#fdca26"
                          ],
                          [
                            1,
                            "#f0f921"
                          ]
                        ],
                        "type": "histogram2dcontour"
                      }
                    ],
                    "mesh3d": [
                      {
                        "colorbar": {
                          "outlinewidth": 0,
                          "ticks": ""
                        },
                        "type": "mesh3d"
                      }
                    ],
                    "parcoords": [
                      {
                        "line": {
                          "colorbar": {
                            "outlinewidth": 0,
                            "ticks": ""
                          }
                        },
                        "type": "parcoords"
                      }
                    ],
                    "pie": [
                      {
                        "automargin": true,
                        "type": "pie"
                      }
                    ],
                    "scatter": [
                      {
                        "fillpattern": {
                          "fillmode": "overlay",
                          "size": 10,
                          "solidity": 0.2
                        },
                        "type": "scatter"
                      }
                    ],
                    "scatter3d": [
                      {
                        "line": {
                          "colorbar": {
                            "outlinewidth": 0,
                            "ticks": ""
                          }
                        },
                        "marker": {
                          "colorbar": {
                            "outlinewidth": 0,
                            "ticks": ""
                          }
                        },
                        "type": "scatter3d"
                      }
                    ],
                    "scattercarpet": [
                      {
                        "marker": {
                          "colorbar": {
                            "outlinewidth": 0,
                            "ticks": ""
                          }
                        },
                        "type": "scattercarpet"
                      }
                    ],
                    "scattergeo": [
                      {
                        "marker": {
                          "colorbar": {
                            "outlinewidth": 0,
                            "ticks": ""
                          }
                        },
                        "type": "scattergeo"
                      }
                    ],
                    "scattergl": [
                      {
                        "marker": {
                          "colorbar": {
                            "outlinewidth": 0,
                            "ticks": ""
                          }
                        },
                        "type": "scattergl"
                      }
                    ],
                    "scattermapbox": [
                      {
                        "marker": {
                          "colorbar": {
                            "outlinewidth": 0,
                            "ticks": ""
                          }
                        },
                        "type": "scattermapbox"
                      }
                    ],
                    "scatterpolar": [
                      {
                        "marker": {
                          "colorbar": {
                            "outlinewidth": 0,
                            "ticks": ""
                          }
                        },
                        "type": "scatterpolar"
                      }
                    ],
                    "scatterpolargl": [
                      {
                        "marker": {
                          "colorbar": {
                            "outlinewidth": 0,
                            "ticks": ""
                          }
                        },
                        "type": "scatterpolargl"
                      }
                    ],
                    "scatterternary": [
                      {
                        "marker": {
                          "colorbar": {
                            "outlinewidth": 0,
                            "ticks": ""
                          }
                        },
                        "type": "scatterternary"
                      }
                    ],
                    "surface": [
                      {
                        "colorbar": {
                          "outlinewidth": 0,
                          "ticks": ""
                        },
                        "colorscale": [
                          [
                            0,
                            "#0d0887"
                          ],
                          [
                            0.1111111111111111,
                            "#46039f"
                          ],
                          [
                            0.2222222222222222,
                            "#7201a8"
                          ],
                          [
                            0.3333333333333333,
                            "#9c179e"
                          ],
                          [
                            0.4444444444444444,
                            "#bd3786"
                          ],
                          [
                            0.5555555555555556,
                            "#d8576b"
                          ],
                          [
                            0.6666666666666666,
                            "#ed7953"
                          ],
                          [
                            0.7777777777777778,
                            "#fb9f3a"
                          ],
                          [
                            0.8888888888888888,
                            "#fdca26"
                          ],
                          [
                            1,
                            "#f0f921"
                          ]
                        ],
                        "type": "surface"
                      }
                    ],
                    "table": [
                      {
                        "cells": {
                          "fill": {
                            "color": "#EBF0F8"
                          },
                          "line": {
                            "color": "white"
                          }
                        },
                        "header": {
                          "fill": {
                            "color": "#C8D4E3"
                          },
                          "line": {
                            "color": "white"
                          }
                        },
                        "type": "table"
                      }
                    ]
                  },
                  "layout": {
                    "annotationdefaults": {
                      "arrowcolor": "#2a3f5f",
                      "arrowhead": 0,
                      "arrowwidth": 1
                    },
                    "autotypenumbers": "strict",
                    "coloraxis": {
                      "colorbar": {
                        "outlinewidth": 0,
                        "ticks": ""
                      }
                    },
                    "colorscale": {
                      "diverging": [
                        [
                          0,
                          "#8e0152"
                        ],
                        [
                          0.1,
                          "#c51b7d"
                        ],
                        [
                          0.2,
                          "#de77ae"
                        ],
                        [
                          0.3,
                          "#f1b6da"
                        ],
                        [
                          0.4,
                          "#fde0ef"
                        ],
                        [
                          0.5,
                          "#f7f7f7"
                        ],
                        [
                          0.6,
                          "#e6f5d0"
                        ],
                        [
                          0.7,
                          "#b8e186"
                        ],
                        [
                          0.8,
                          "#7fbc41"
                        ],
                        [
                          0.9,
                          "#4d9221"
                        ],
                        [
                          1,
                          "#276419"
                        ]
                      ],
                      "sequential": [
                        [
                          0,
                          "#0d0887"
                        ],
                        [
                          0.1111111111111111,
                          "#46039f"
                        ],
                        [
                          0.2222222222222222,
                          "#7201a8"
                        ],
                        [
                          0.3333333333333333,
                          "#9c179e"
                        ],
                        [
                          0.4444444444444444,
                          "#bd3786"
                        ],
                        [
                          0.5555555555555556,
                          "#d8576b"
                        ],
                        [
                          0.6666666666666666,
                          "#ed7953"
                        ],
                        [
                          0.7777777777777778,
                          "#fb9f3a"
                        ],
                        [
                          0.8888888888888888,
                          "#fdca26"
                        ],
                        [
                          1,
                          "#f0f921"
                        ]
                      ],
                      "sequentialminus": [
                        [
                          0,
                          "#0d0887"
                        ],
                        [
                          0.1111111111111111,
                          "#46039f"
                        ],
                        [
                          0.2222222222222222,
                          "#7201a8"
                        ],
                        [
                          0.3333333333333333,
                          "#9c179e"
                        ],
                        [
                          0.4444444444444444,
                          "#bd3786"
                        ],
                        [
                          0.5555555555555556,
                          "#d8576b"
                        ],
                        [
                          0.6666666666666666,
                          "#ed7953"
                        ],
                        [
                          0.7777777777777778,
                          "#fb9f3a"
                        ],
                        [
                          0.8888888888888888,
                          "#fdca26"
                        ],
                        [
                          1,
                          "#f0f921"
                        ]
                      ]
                    },
                    "colorway": [
                      "#636efa",
                      "#EF553B",
                      "#00cc96",
                      "#ab63fa",
                      "#FFA15A",
                      "#19d3f3",
                      "#FF6692",
                      "#B6E880",
                      "#FF97FF",
                      "#FECB52"
                    ],
                    "font": {
                      "color": "#2a3f5f"
                    },
                    "geo": {
                      "bgcolor": "white",
                      "lakecolor": "white",
                      "landcolor": "#E5ECF6",
                      "showlakes": true,
                      "showland": true,
                      "subunitcolor": "white"
                    },
                    "hoverlabel": {
                      "align": "left"
                    },
                    "hovermode": "closest",
                    "mapbox": {
                      "style": "light"
                    },
                    "paper_bgcolor": "white",
                    "plot_bgcolor": "#E5ECF6",
                    "polar": {
                      "angularaxis": {
                        "gridcolor": "white",
                        "linecolor": "white",
                        "ticks": ""
                      },
                      "bgcolor": "#E5ECF6",
                      "radialaxis": {
                        "gridcolor": "white",
                        "linecolor": "white",
                        "ticks": ""
                      }
                    },
                    "scene": {
                      "xaxis": {
                        "backgroundcolor": "#E5ECF6",
                        "gridcolor": "white",
                        "gridwidth": 2,
                        "linecolor": "white",
                        "showbackground": true,
                        "ticks": "",
                        "zerolinecolor": "white"
                      },
                      "yaxis": {
                        "backgroundcolor": "#E5ECF6",
                        "gridcolor": "white",
                        "gridwidth": 2,
                        "linecolor": "white",
                        "showbackground": true,
                        "ticks": "",
                        "zerolinecolor": "white"
                      },
                      "zaxis": {
                        "backgroundcolor": "#E5ECF6",
                        "gridcolor": "white",
                        "gridwidth": 2,
                        "linecolor": "white",
                        "showbackground": true,
                        "ticks": "",
                        "zerolinecolor": "white"
                      }
                    },
                    "shapedefaults": {
                      "line": {
                        "color": "#2a3f5f"
                      }
                    },
                    "ternary": {
                      "aaxis": {
                        "gridcolor": "white",
                        "linecolor": "white",
                        "ticks": ""
                      },
                      "baxis": {
                        "gridcolor": "white",
                        "linecolor": "white",
                        "ticks": ""
                      },
                      "bgcolor": "#E5ECF6",
                      "caxis": {
                        "gridcolor": "white",
                        "linecolor": "white",
                        "ticks": ""
                      }
                    },
                    "title": {
                      "x": 0.05
                    },
                    "xaxis": {
                      "automargin": true,
                      "gridcolor": "white",
                      "linecolor": "white",
                      "ticks": "",
                      "title": {
                        "standoff": 15
                      },
                      "zerolinecolor": "white",
                      "zerolinewidth": 2
                    },
                    "yaxis": {
                      "automargin": true,
                      "gridcolor": "white",
                      "linecolor": "white",
                      "ticks": "",
                      "title": {
                        "standoff": 15
                      },
                      "zerolinecolor": "white",
                      "zerolinewidth": 2
                    }
                  }
                },
                "xaxis": {
                  "autorange": true,
                  "range": [
                    9.438066465256803,
                    78.56193353474319
                  ],
                  "type": "linear"
                },
                "xaxis2": {
                  "autorange": true,
                  "range": [
                    -0.16465256797583075,
                    1.1646525679758308
                  ],
                  "type": "category"
                },
                "xaxis3": {
                  "autorange": true,
                  "range": [
                    -5.087613293051362,
                    157.08761329305136
                  ],
                  "type": "linear"
                },
                "xaxis4": {
                  "autorange": true,
                  "range": [
                    -15.13595166163142,
                    115.13595166163142
                  ],
                  "type": "linear"
                },
                "yaxis": {
                  "autorange": true,
                  "range": [
                    9.438066465256803,
                    78.56193353474319
                  ],
                  "type": "linear"
                },
                "yaxis2": {
                  "autorange": true,
                  "range": [
                    -0.16465256797583075,
                    1.1646525679758308
                  ],
                  "type": "category"
                },
                "yaxis3": {
                  "autorange": true,
                  "range": [
                    -5.087613293051362,
                    157.08761329305136
                  ],
                  "type": "linear"
                },
                "yaxis4": {
                  "autorange": true,
                  "range": [
                    -15.13595166163142,
                    115.13595166163142
                  ],
                  "type": "linear"
                }
              }
            },
            "image/png": "[encoded data removed]",
            "text/html": [
              "<div>                            <div id=\"58dcef80-0ba5-4602-98a9-230214f8d248\" class=\"plotly-graph-div\" style=\"height:525px; width:100%;\"></div>            <script type=\"text/javascript\">                require([\"plotly\"], function(Plotly) {                    window.PLOTLYENV=window.PLOTLYENV || {};                                    if (document.getElementById(\"58dcef80-0ba5-4602-98a9-230214f8d248\")) {                    Plotly.newPlot(                        \"58dcef80-0ba5-4602-98a9-230214f8d248\",                        [{\"dimensions\":[{\"axis\":{\"matches\":true},\"label\":\"Age\",\"values\":[19,21,22,20,35,25,31,29,35,18,24,33,19,18,19,26,40,38,18,24,20,26,19,27,39,40,38,39,32,32,28,34,39,32,28,36,27,35,30,28,32,30]},{\"axis\":{\"matches\":true},\"label\":\"Gender\",\"values\":[\"Male\",\"Male\",\"Male\",\"Male\",\"Male\",\"Male\",\"Male\",\"Male\",\"Male\",\"Male\",\"Male\",\"Male\",\"Male\",\"Male\",\"Male\",\"Male\",\"Male\",\"Male\",\"Male\",\"Male\",\"Male\",\"Male\",\"Male\",\"Male\",\"Male\",\"Male\",\"Male\",\"Male\",\"Male\",\"Male\",\"Male\",\"Male\",\"Male\",\"Male\",\"Male\",\"Male\",\"Male\",\"Male\",\"Male\",\"Male\",\"Male\",\"Male\"]},{\"axis\":{\"matches\":true},\"label\":\"Annual Income (k$)\",\"values\":[15,15,20,21,24,24,25,28,28,33,38,42,46,48,48,54,54,54,59,60,61,62,64,67,69,71,71,71,73,75,77,78,78,87,87,87,88,93,99,101,126,137]},{\"axis\":{\"matches\":true},\"label\":\"Spending Score (1-100)\",\"values\":[39,81,79,66,35,73,73,82,61,92,92,60,55,59,59,54,48,55,41,52,49,55,46,56,91,95,75,75,73,93,97,90,88,63,75,92,69,90,97,68,74,83]}],\"hovertemplate\":\"Cluster=%{marker.color}\\u003cbr\\u003e%{xaxis.title.text}=%{x}\\u003cbr\\u003e%{yaxis.title.text}=%{y}\\u003cextra\\u003e\\u003c\\u002fextra\\u003e\",\"legendgroup\":\"2\",\"marker\":{\"color\":[2,2,2,2,2,2,2,2,2,2,2,2,2,2,2,2,2,2,2,2,2,2,2,2,2,2,2,2,2,2,2,2,2,2,2,2,2,2,2,2,2,2],\"coloraxis\":\"coloraxis\",\"symbol\":\"circle\"},\"name\":\"2\",\"showlegend\":true,\"type\":\"splom\"},{\"dimensions\":[{\"axis\":{\"matches\":true},\"label\":\"Age\",\"values\":[20,23,31,22,23,30,35,24,35,35,23,21,21,30,20,31,24,27,29,31,31,27,43,32,45,23,21,22,34,40,32,27,23,21,19,38,18,19,38,40,23,31,25,31,29,35,28,32,32,38,27,30,30,29,31,36,33,30,32,29,36,32,38,35]},{\"axis\":{\"matches\":true},\"label\":\"Gender\",\"values\":[\"Female\",\"Female\",\"Female\",\"Female\",\"Female\",\"Female\",\"Female\",\"Female\",\"Female\",\"Female\",\"Female\",\"Female\",\"Female\",\"Female\",\"Female\",\"Female\",\"Female\",\"Female\",\"Female\",\"Female\",\"Female\",\"Female\",\"Female\",\"Female\",\"Female\",\"Female\",\"Female\",\"Female\",\"Female\",\"Female\",\"Female\",\"Female\",\"Female\",\"Female\",\"Female\",\"Female\",\"Female\",\"Female\",\"Female\",\"Female\",\"Female\",\"Female\",\"Female\",\"Female\",\"Female\",\"Female\",\"Female\",\"Female\",\"Female\",\"Female\",\"Female\",\"Female\",\"Female\",\"Female\",\"Female\",\"Female\",\"Female\",\"Female\",\"Female\",\"Female\",\"Female\",\"Female\",\"Female\",\"Female\"]},{\"axis\":{\"matches\":true},\"label\":\"Annual Income (k$)\",\"values\":[16,16,17,17,18,19,19,20,21,23,29,30,33,34,37,39,39,40,40,40,43,46,48,48,54,54,54,57,58,60,60,60,62,62,63,64,65,65,67,69,70,70,72,72,73,74,76,76,77,78,78,78,78,79,81,85,86,88,97,98,103,103,113,120]},{\"axis\":{\"matches\":true},\"label\":\"Spending Score (1-100)\",\"values\":[6,77,40,76,94,72,99,77,35,98,87,73,81,73,75,61,65,47,42,42,54,51,50,47,53,52,57,55,60,40,42,50,41,42,54,42,48,50,40,58,29,77,34,71,88,72,40,87,74,76,89,78,73,83,93,75,95,86,86,88,85,69,91,79]}],\"hovertemplate\":\"Cluster=%{marker.color}\\u003cbr\\u003e%{xaxis.title.text}=%{x}\\u003cbr\\u003e%{yaxis.title.text}=%{y}\\u003cextra\\u003e\\u003c\\u002fextra\\u003e\",\"legendgroup\":\"3\",\"marker\":{\"color\":[3,3,3,3,3,3,3,3,3,3,3,3,3,3,3,3,3,3,3,3,3,3,3,3,3,3,3,3,3,3,3,3,3,3,3,3,3,3,3,3,3,3,3,3,3,3,3,3,3,3,3,3,3,3,3,3,3,3,3,3,3,3,3,3],\"coloraxis\":\"coloraxis\",\"symbol\":\"diamond\"},\"name\":\"3\",\"showlegend\":true,\"type\":\"splom\"},{\"dimensions\":[{\"axis\":{\"matches\":true},\"label\":\"Age\",\"values\":[35,64,67,58,37,52,46,54,45,40,60,53,49,42,36,65,48,49,50,49,59,50,47,51,69,53,70,67,54,63,68,70,47,60,60,59,49,57,67,46,48,55,50,68,48,47,48,49,67,49,66,54,68,66,65,63,49,51,50,56]},{\"axis\":{\"matches\":true},\"label\":\"Gender\",\"values\":[\"Female\",\"Male\",\"Male\",\"Female\",\"Male\",\"Male\",\"Female\",\"Female\",\"Female\",\"Female\",\"Male\",\"Male\",\"Female\",\"Female\",\"Female\",\"Female\",\"Male\",\"Female\",\"Female\",\"Female\",\"Male\",\"Female\",\"Male\",\"Female\",\"Male\",\"Male\",\"Male\",\"Female\",\"Female\",\"Male\",\"Female\",\"Male\",\"Female\",\"Female\",\"Female\",\"Male\",\"Female\",\"Male\",\"Male\",\"Female\",\"Male\",\"Female\",\"Female\",\"Female\",\"Male\",\"Female\",\"Male\",\"Female\",\"Male\",\"Male\",\"Female\",\"Male\",\"Male\",\"Male\",\"Male\",\"Female\",\"Female\",\"Female\",\"Female\",\"Female\"]},{\"axis\":{\"matches\":true},\"label\":\"Annual Income (k$)\",\"values\":[18,19,19,20,20,23,25,28,28,29,30,33,33,34,37,38,39,39,40,42,43,43,43,44,44,46,46,47,47,48,48,49,49,50,50,54,54,54,54,54,54,57,58,59,60,60,61,62,62,62,63,63,63,63,63,65,65,67,67,79]},{\"axis\":{\"matches\":true},\"label\":\"Spending Score (1-100)\",\"values\":[6,3,14,15,13,29,5,14,32,31,4,4,14,17,26,35,36,28,55,52,60,45,41,50,46,46,56,52,59,51,48,55,42,49,56,47,42,51,41,44,46,58,46,55,49,47,42,48,59,56,50,46,43,48,52,43,59,43,57,35]}],\"hovertemplate\":\"Cluster=%{marker.color}\\u003cbr\\u003e%{xaxis.title.text}=%{x}\\u003cbr\\u003e%{yaxis.title.text}=%{y}\\u003cextra\\u003e\\u003c\\u002fextra\\u003e\",\"legendgroup\":\"0\",\"marker\":{\"color\":[0,0,0,0,0,0,0,0,0,0,0,0,0,0,0,0,0,0,0,0,0,0,0,0,0,0,0,0,0,0,0,0,0,0,0,0,0,0,0,0,0,0,0,0,0,0,0,0,0,0,0,0,0,0,0,0,0,0,0,0],\"coloraxis\":\"coloraxis\",\"symbol\":\"square\"},\"name\":\"0\",\"showlegend\":true,\"type\":\"splom\"},{\"dimensions\":[{\"axis\":{\"matches\":true},\"label\":\"Age\",\"values\":[43,59,47,20,44,19,57,25,48,34,43,44,47,37,34,19,50,42,36,40,36,52,58,59,37,46,41,54,41,34,33,47,45,32]},{\"axis\":{\"matches\":true},\"label\":\"Gender\",\"values\":[\"Male\",\"Male\",\"Male\",\"Male\",\"Female\",\"Male\",\"Female\",\"Male\",\"Male\",\"Female\",\"Male\",\"Female\",\"Female\",\"Male\",\"Male\",\"Male\",\"Male\",\"Male\",\"Female\",\"Male\",\"Male\",\"Female\",\"Male\",\"Male\",\"Female\",\"Male\",\"Female\",\"Female\",\"Female\",\"Female\",\"Male\",\"Female\",\"Female\",\"Male\"]},{\"axis\":{\"matches\":true},\"label\":\"Annual Income (k$)\",\"values\":[71,71,71,73,73,74,75,77,77,78,78,78,78,78,78,81,85,86,87,87,87,88,88,93,97,98,99,101,103,103,113,120,126,137]},{\"axis\":{\"matches\":true},\"label\":\"Spending Score (1-100)\",\"values\":[35,11,9,5,7,10,5,12,36,22,17,20,16,1,1,5,26,20,27,13,10,13,15,14,32,15,39,24,17,23,8,16,28,18]}],\"hovertemplate\":\"Cluster=%{marker.color}\\u003cbr\\u003e%{xaxis.title.text}=%{x}\\u003cbr\\u003e%{yaxis.title.text}=%{y}\\u003cextra\\u003e\\u003c\\u002fextra\\u003e\",\"legendgroup\":\"1\",\"marker\":{\"color\":[1,1,1,1,1,1,1,1,1,1,1,1,1,1,1,1,1,1,1,1,1,1,1,1,1,1,1,1,1,1,1,1,1,1],\"coloraxis\":\"coloraxis\",\"symbol\":\"x\"},\"name\":\"1\",\"showlegend\":true,\"type\":\"splom\"}],                        {\"template\":{\"data\":{\"histogram2dcontour\":[{\"type\":\"histogram2dcontour\",\"colorbar\":{\"outlinewidth\":0,\"ticks\":\"\"},\"colorscale\":[[0.0,\"#0d0887\"],[0.1111111111111111,\"#46039f\"],[0.2222222222222222,\"#7201a8\"],[0.3333333333333333,\"#9c179e\"],[0.4444444444444444,\"#bd3786\"],[0.5555555555555556,\"#d8576b\"],[0.6666666666666666,\"#ed7953\"],[0.7777777777777778,\"#fb9f3a\"],[0.8888888888888888,\"#fdca26\"],[1.0,\"#f0f921\"]]}],\"choropleth\":[{\"type\":\"choropleth\",\"colorbar\":{\"outlinewidth\":0,\"ticks\":\"\"}}],\"histogram2d\":[{\"type\":\"histogram2d\",\"colorbar\":{\"outlinewidth\":0,\"ticks\":\"\"},\"colorscale\":[[0.0,\"#0d0887\"],[0.1111111111111111,\"#46039f\"],[0.2222222222222222,\"#7201a8\"],[0.3333333333333333,\"#9c179e\"],[0.4444444444444444,\"#bd3786\"],[0.5555555555555556,\"#d8576b\"],[0.6666666666666666,\"#ed7953\"],[0.7777777777777778,\"#fb9f3a\"],[0.8888888888888888,\"#fdca26\"],[1.0,\"#f0f921\"]]}],\"heatmap\":[{\"type\":\"heatmap\",\"colorbar\":{\"outlinewidth\":0,\"ticks\":\"\"},\"colorscale\":[[0.0,\"#0d0887\"],[0.1111111111111111,\"#46039f\"],[0.2222222222222222,\"#7201a8\"],[0.3333333333333333,\"#9c179e\"],[0.4444444444444444,\"#bd3786\"],[0.5555555555555556,\"#d8576b\"],[0.6666666666666666,\"#ed7953\"],[0.7777777777777778,\"#fb9f3a\"],[0.8888888888888888,\"#fdca26\"],[1.0,\"#f0f921\"]]}],\"heatmapgl\":[{\"type\":\"heatmapgl\",\"colorbar\":{\"outlinewidth\":0,\"ticks\":\"\"},\"colorscale\":[[0.0,\"#0d0887\"],[0.1111111111111111,\"#46039f\"],[0.2222222222222222,\"#7201a8\"],[0.3333333333333333,\"#9c179e\"],[0.4444444444444444,\"#bd3786\"],[0.5555555555555556,\"#d8576b\"],[0.6666666666666666,\"#ed7953\"],[0.7777777777777778,\"#fb9f3a\"],[0.8888888888888888,\"#fdca26\"],[1.0,\"#f0f921\"]]}],\"contourcarpet\":[{\"type\":\"contourcarpet\",\"colorbar\":{\"outlinewidth\":0,\"ticks\":\"\"}}],\"contour\":[{\"type\":\"contour\",\"colorbar\":{\"outlinewidth\":0,\"ticks\":\"\"},\"colorscale\":[[0.0,\"#0d0887\"],[0.1111111111111111,\"#46039f\"],[0.2222222222222222,\"#7201a8\"],[0.3333333333333333,\"#9c179e\"],[0.4444444444444444,\"#bd3786\"],[0.5555555555555556,\"#d8576b\"],[0.6666666666666666,\"#ed7953\"],[0.7777777777777778,\"#fb9f3a\"],[0.8888888888888888,\"#fdca26\"],[1.0,\"#f0f921\"]]}],\"surface\":[{\"type\":\"surface\",\"colorbar\":{\"outlinewidth\":0,\"ticks\":\"\"},\"colorscale\":[[0.0,\"#0d0887\"],[0.1111111111111111,\"#46039f\"],[0.2222222222222222,\"#7201a8\"],[0.3333333333333333,\"#9c179e\"],[0.4444444444444444,\"#bd3786\"],[0.5555555555555556,\"#d8576b\"],[0.6666666666666666,\"#ed7953\"],[0.7777777777777778,\"#fb9f3a\"],[0.8888888888888888,\"#fdca26\"],[1.0,\"#f0f921\"]]}],\"mesh3d\":[{\"type\":\"mesh3d\",\"colorbar\":{\"outlinewidth\":0,\"ticks\":\"\"}}],\"scatter\":[{\"fillpattern\":{\"fillmode\":\"overlay\",\"size\":10,\"solidity\":0.2},\"type\":\"scatter\"}],\"parcoords\":[{\"type\":\"parcoords\",\"line\":{\"colorbar\":{\"outlinewidth\":0,\"ticks\":\"\"}}}],\"scatterpolargl\":[{\"type\":\"scatterpolargl\",\"marker\":{\"colorbar\":{\"outlinewidth\":0,\"ticks\":\"\"}}}],\"bar\":[{\"error_x\":{\"color\":\"#2a3f5f\"},\"error_y\":{\"color\":\"#2a3f5f\"},\"marker\":{\"line\":{\"color\":\"#E5ECF6\",\"width\":0.5},\"pattern\":{\"fillmode\":\"overlay\",\"size\":10,\"solidity\":0.2}},\"type\":\"bar\"}],\"scattergeo\":[{\"type\":\"scattergeo\",\"marker\":{\"colorbar\":{\"outlinewidth\":0,\"ticks\":\"\"}}}],\"scatterpolar\":[{\"type\":\"scatterpolar\",\"marker\":{\"colorbar\":{\"outlinewidth\":0,\"ticks\":\"\"}}}],\"histogram\":[{\"marker\":{\"pattern\":{\"fillmode\":\"overlay\",\"size\":10,\"solidity\":0.2}},\"type\":\"histogram\"}],\"scattergl\":[{\"type\":\"scattergl\",\"marker\":{\"colorbar\":{\"outlinewidth\":0,\"ticks\":\"\"}}}],\"scatter3d\":[{\"type\":\"scatter3d\",\"line\":{\"colorbar\":{\"outlinewidth\":0,\"ticks\":\"\"}},\"marker\":{\"colorbar\":{\"outlinewidth\":0,\"ticks\":\"\"}}}],\"scattermapbox\":[{\"type\":\"scattermapbox\",\"marker\":{\"colorbar\":{\"outlinewidth\":0,\"ticks\":\"\"}}}],\"scatterternary\":[{\"type\":\"scatterternary\",\"marker\":{\"colorbar\":{\"outlinewidth\":0,\"ticks\":\"\"}}}],\"scattercarpet\":[{\"type\":\"scattercarpet\",\"marker\":{\"colorbar\":{\"outlinewidth\":0,\"ticks\":\"\"}}}],\"carpet\":[{\"aaxis\":{\"endlinecolor\":\"#2a3f5f\",\"gridcolor\":\"white\",\"linecolor\":\"white\",\"minorgridcolor\":\"white\",\"startlinecolor\":\"#2a3f5f\"},\"baxis\":{\"endlinecolor\":\"#2a3f5f\",\"gridcolor\":\"white\",\"linecolor\":\"white\",\"minorgridcolor\":\"white\",\"startlinecolor\":\"#2a3f5f\"},\"type\":\"carpet\"}],\"table\":[{\"cells\":{\"fill\":{\"color\":\"#EBF0F8\"},\"line\":{\"color\":\"white\"}},\"header\":{\"fill\":{\"color\":\"#C8D4E3\"},\"line\":{\"color\":\"white\"}},\"type\":\"table\"}],\"barpolar\":[{\"marker\":{\"line\":{\"color\":\"#E5ECF6\",\"width\":0.5},\"pattern\":{\"fillmode\":\"overlay\",\"size\":10,\"solidity\":0.2}},\"type\":\"barpolar\"}],\"pie\":[{\"automargin\":true,\"type\":\"pie\"}]},\"layout\":{\"autotypenumbers\":\"strict\",\"colorway\":[\"#636efa\",\"#EF553B\",\"#00cc96\",\"#ab63fa\",\"#FFA15A\",\"#19d3f3\",\"#FF6692\",\"#B6E880\",\"#FF97FF\",\"#FECB52\"],\"font\":{\"color\":\"#2a3f5f\"},\"hovermode\":\"closest\",\"hoverlabel\":{\"align\":\"left\"},\"paper_bgcolor\":\"white\",\"plot_bgcolor\":\"#E5ECF6\",\"polar\":{\"bgcolor\":\"#E5ECF6\",\"angularaxis\":{\"gridcolor\":\"white\",\"linecolor\":\"white\",\"ticks\":\"\"},\"radialaxis\":{\"gridcolor\":\"white\",\"linecolor\":\"white\",\"ticks\":\"\"}},\"ternary\":{\"bgcolor\":\"#E5ECF6\",\"aaxis\":{\"gridcolor\":\"white\",\"linecolor\":\"white\",\"ticks\":\"\"},\"baxis\":{\"gridcolor\":\"white\",\"linecolor\":\"white\",\"ticks\":\"\"},\"caxis\":{\"gridcolor\":\"white\",\"linecolor\":\"white\",\"ticks\":\"\"}},\"coloraxis\":{\"colorbar\":{\"outlinewidth\":0,\"ticks\":\"\"}},\"colorscale\":{\"sequential\":[[0.0,\"#0d0887\"],[0.1111111111111111,\"#46039f\"],[0.2222222222222222,\"#7201a8\"],[0.3333333333333333,\"#9c179e\"],[0.4444444444444444,\"#bd3786\"],[0.5555555555555556,\"#d8576b\"],[0.6666666666666666,\"#ed7953\"],[0.7777777777777778,\"#fb9f3a\"],[0.8888888888888888,\"#fdca26\"],[1.0,\"#f0f921\"]],\"sequentialminus\":[[0.0,\"#0d0887\"],[0.1111111111111111,\"#46039f\"],[0.2222222222222222,\"#7201a8\"],[0.3333333333333333,\"#9c179e\"],[0.4444444444444444,\"#bd3786\"],[0.5555555555555556,\"#d8576b\"],[0.6666666666666666,\"#ed7953\"],[0.7777777777777778,\"#fb9f3a\"],[0.8888888888888888,\"#fdca26\"],[1.0,\"#f0f921\"]],\"diverging\":[[0,\"#8e0152\"],[0.1,\"#c51b7d\"],[0.2,\"#de77ae\"],[0.3,\"#f1b6da\"],[0.4,\"#fde0ef\"],[0.5,\"#f7f7f7\"],[0.6,\"#e6f5d0\"],[0.7,\"#b8e186\"],[0.8,\"#7fbc41\"],[0.9,\"#4d9221\"],[1,\"#276419\"]]},\"xaxis\":{\"gridcolor\":\"white\",\"linecolor\":\"white\",\"ticks\":\"\",\"title\":{\"standoff\":15},\"zerolinecolor\":\"white\",\"automargin\":true,\"zerolinewidth\":2},\"yaxis\":{\"gridcolor\":\"white\",\"linecolor\":\"white\",\"ticks\":\"\",\"title\":{\"standoff\":15},\"zerolinecolor\":\"white\",\"automargin\":true,\"zerolinewidth\":2},\"scene\":{\"xaxis\":{\"backgroundcolor\":\"#E5ECF6\",\"gridcolor\":\"white\",\"linecolor\":\"white\",\"showbackground\":true,\"ticks\":\"\",\"zerolinecolor\":\"white\",\"gridwidth\":2},\"yaxis\":{\"backgroundcolor\":\"#E5ECF6\",\"gridcolor\":\"white\",\"linecolor\":\"white\",\"showbackground\":true,\"ticks\":\"\",\"zerolinecolor\":\"white\",\"gridwidth\":2},\"zaxis\":{\"backgroundcolor\":\"#E5ECF6\",\"gridcolor\":\"white\",\"linecolor\":\"white\",\"showbackground\":true,\"ticks\":\"\",\"zerolinecolor\":\"white\",\"gridwidth\":2}},\"shapedefaults\":{\"line\":{\"color\":\"#2a3f5f\"}},\"annotationdefaults\":{\"arrowcolor\":\"#2a3f5f\",\"arrowhead\":0,\"arrowwidth\":1},\"geo\":{\"bgcolor\":\"white\",\"landcolor\":\"#E5ECF6\",\"subunitcolor\":\"white\",\"showland\":true,\"showlakes\":true,\"lakecolor\":\"white\"},\"title\":{\"x\":0.05},\"mapbox\":{\"style\":\"light\"}}},\"coloraxis\":{\"colorbar\":{\"title\":{\"text\":\"Cluster\"}},\"colorscale\":[[0.0,\"#0d0887\"],[0.1111111111111111,\"#46039f\"],[0.2222222222222222,\"#7201a8\"],[0.3333333333333333,\"#9c179e\"],[0.4444444444444444,\"#bd3786\"],[0.5555555555555556,\"#d8576b\"],[0.6666666666666666,\"#ed7953\"],[0.7777777777777778,\"#fb9f3a\"],[0.8888888888888888,\"#fdca26\"],[1.0,\"#f0f921\"]]},\"legend\":{\"title\":{\"text\":\"Cluster\"},\"tracegroupgap\":0},\"margin\":{\"t\":60},\"dragmode\":\"select\"},                        {\"responsive\": true}                    ).then(function(){\n",
              "                            \n",
              "var gd = document.getElementById('58dcef80-0ba5-4602-98a9-230214f8d248');\n",
              "var x = new MutationObserver(function (mutations, observer) {{\n",
              "        var display = window.getComputedStyle(gd).display;\n",
              "        if (!display || display === 'none') {{\n",
              "            console.log([gd, 'removed!']);\n",
              "            Plotly.purge(gd);\n",
              "            observer.disconnect();\n",
              "        }}\n",
              "}});\n",
              "\n",
              "// Listen for the removal of the full notebook cells\n",
              "var notebookContainer = gd.closest('#notebook-container');\n",
              "if (notebookContainer) {{\n",
              "    x.observe(notebookContainer, {childList: true});\n",
              "}}\n",
              "\n",
              "// Listen for the clearing of the current output cell\n",
              "var outputEl = gd.closest('.output');\n",
              "if (outputEl) {{\n",
              "    x.observe(outputEl, {childList: true});\n",
              "}}\n",
              "\n",
              "                        })                };                });            </script>        </div>"
            ]
          },
          "metadata": {},
          "output_type": "display_data"
        }
      ],
      "source": [
        "def visualize_clusters(df):\n",
        "    fig = px.scatter_matrix(df, dimensions=['Age','Gender', 'Annual Income (k$)', 'Spending Score (1-100)'],\n",
        "                            color='Cluster', symbol='Cluster')\n",
        "    fig.show()\n",
        "\n",
        "# Visualize clusters\n",
        "visualize_clusters(df)"
      ]
    },
    {
      "cell_type": "code",
      "execution_count": null,
      "id": "dae3a627-b457-49a0-8a94-624a88fa3e27",
      "metadata": {
        "id": "dae3a627-b457-49a0-8a94-624a88fa3e27",
        "outputId": "e42ae5f9-5aa9-400c-9cea-116500d3b2dd"
      },
      "outputs": [
        {
          "name": "stderr",
          "output_type": "stream",
          "text": [
            "C:\\Users\\Mouma\\anaconda3\\Lib\\site-packages\\sklearn\\cluster\\_kmeans.py:1446: UserWarning:\n",
            "\n",
            "KMeans is known to have a memory leak on Windows with MKL, when there are less chunks than available threads. You can avoid it by setting the environment variable OMP_NUM_THREADS=1.\n",
            "\n",
            "C:\\Users\\Mouma\\anaconda3\\Lib\\site-packages\\sklearn\\cluster\\_kmeans.py:1446: UserWarning:\n",
            "\n",
            "KMeans is known to have a memory leak on Windows with MKL, when there are less chunks than available threads. You can avoid it by setting the environment variable OMP_NUM_THREADS=1.\n",
            "\n",
            "C:\\Users\\Mouma\\anaconda3\\Lib\\site-packages\\sklearn\\cluster\\_kmeans.py:1446: UserWarning:\n",
            "\n",
            "KMeans is known to have a memory leak on Windows with MKL, when there are less chunks than available threads. You can avoid it by setting the environment variable OMP_NUM_THREADS=1.\n",
            "\n",
            "C:\\Users\\Mouma\\anaconda3\\Lib\\site-packages\\sklearn\\cluster\\_kmeans.py:1446: UserWarning:\n",
            "\n",
            "KMeans is known to have a memory leak on Windows with MKL, when there are less chunks than available threads. You can avoid it by setting the environment variable OMP_NUM_THREADS=1.\n",
            "\n"
          ]
        },
        {
          "data": {
            "image/png": "[encoded data removed]",
            "text/plain": [
              "<Figure size 800x600 with 1 Axes>"
            ]
          },
          "metadata": {},
          "output_type": "display_data"
        }
      ],
      "source": [
        "def evaluation_clustering(data):\n",
        "    inertias = []\n",
        "    cluster_range = range(2, 6)\n",
        "\n",
        "    for k in cluster_range:\n",
        "        kmeans = KMeans(n_clusters=k, max_iter=1000, random_state=42)\n",
        "        kmeans.fit(data)\n",
        "        inertias.append(kmeans.inertia_)\n",
        "\n",
        "    # Visualize the elbow method\n",
        "    plt.figure(figsize=(8, 6))\n",
        "    plt.plot(cluster_range, inertias, marker='o')\n",
        "    plt.xlabel(\"Number of clusters (k)\")\n",
        "    plt.ylabel(\"Inertia\")\n",
        "    plt.title(\"Elbow Method\")\n",
        "    plt.show()\n",
        "\n",
        "# Evaluate clustering quality\n",
        "evaluation_clustering(data_normalized)"
      ]
    },
    {
      "cell_type": "code",
      "execution_count": null,
      "id": "7b3114b7-c546-4d68-9518-234de0ba0838",
      "metadata": {
        "id": "7b3114b7-c546-4d68-9518-234de0ba0838"
      },
      "outputs": [],
      "source": []
    }
  ],
  "metadata": {
    "kernelspec": {
      "display_name": "Python 3 (ipykernel)",
      "language": "python",
      "name": "python3"
    },
    "language_info": {
      "codemirror_mode": {
        "name": "ipython",
        "version": 3
      },
      "file_extension": ".py",
      "mimetype": "text/x-python",
      "name": "python",
      "nbconvert_exporter": "python",
      "pygments_lexer": "ipython3",
      "version": "3.12.4"
    },
    "colab": {
      "provenance": [],
      "include_colab_link": true
    }
  },
  "nbformat": 4,
  "nbformat_minor": 5
}